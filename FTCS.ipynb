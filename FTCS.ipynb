{
 "cells": [
  {
   "cell_type": "code",
   "execution_count": 1,
   "id": "30077ee2-a912-45ae-a180-33bd28b760f6",
   "metadata": {},
   "outputs": [],
   "source": [
    "import numpy as np\n",
    "import matplotlib.pyplot as plt"
   ]
  },
  {
   "cell_type": "code",
   "execution_count": 2,
   "id": "563b9ea3-8eda-4456-b127-5345c1388c3e",
   "metadata": {},
   "outputs": [],
   "source": [
    "# Grid\n",
    "nx = 100\n",
    "xl, xr = 0., 100.\n",
    "nghost = 1\n",
    "\n",
    "dx = (xr - xl) / nx\n",
    "nxt = nx + 2 * nghost\n",
    "\n",
    "# Courant number\n",
    "nu = 0.25\n",
    "\n",
    "# Advection speed (constant)\n",
    "c = 1.\n",
    "\n",
    "# Constant timestep\n",
    "dt = nu * dx / c\n",
    "\n",
    "# End time\n",
    "t_end = 10.\n",
    "\n",
    "# I/O\n",
    "n_output = 2\n",
    "\n",
    "# Initialize\n",
    "t = 0.\n",
    "nstep = 0"
   ]
  },
  {
   "cell_type": "code",
   "execution_count": 3,
   "id": "ca6ce80a-9171-43d8-9c82-67f0268ad51e",
   "metadata": {},
   "outputs": [],
   "source": [
    "# Initialize grid\n",
    "x = np.linspace(xl-nghost*dx, xr+nghost*dx, nxt)"
   ]
  },
  {
   "cell_type": "code",
   "execution_count": 4,
   "id": "36101f20-e834-46af-a66b-0eeeede7b14b",
   "metadata": {},
   "outputs": [],
   "source": [
    "# Initial conditions(step function)\n",
    "u = np.where(x<50., 1., 0.)"
   ]
  },
  {
   "cell_type": "code",
   "execution_count": 5,
   "id": "e204325a-eda8-4307-a3ab-d52f4bf91f07",
   "metadata": {},
   "outputs": [],
   "source": [
    "# TIme integration loop\n",
    "while t < t_end:\n",
    "    \n",
    "    # Set Boundary conditions\n",
    "    u[0] = u[1]\n",
    "    u[nxt - 1] = u[nxt - 2]\n",
    "    \n",
    "    # Create left, right, and inner arrays to construct central differences\n",
    "    u_right = u[nghost+1:]\n",
    "    u_left = u[:-nghost-1]\n",
    "    u_inner = u[nghost:-nghost]\n",
    "\n",
    "    # Calculate new solution. One timestep in the FTCS scheme.\n",
    "    u_new_inner = u_inner + 0.5 * nu * (u_right - u_left)\n",
    "\n",
    "    # Create a copy so that we can still use u_new_inner.\n",
    "    u_inner = u_new_inner.copy()\n",
    "    \n",
    "    # Extend u to \n",
    "    u = np.concatenate(([0], u_inner, [0]))\n",
    "    \n",
    "    # Update time\n",
    "    t = t + dt\n",
    "    nstep += 1\n",
    "    \n",
    "    # I/O\n",
    "    if nstep % n_output == 0:\n",
    "        u_inner.tofile(f'ftcs-{int(nstep/n_output):0>4d}.dat')"
   ]
  },
  {
   "cell_type": "code",
   "execution_count": 6,
   "id": "eb103b88-0641-4f67-82ee-3f2f9679e453",
   "metadata": {},
   "outputs": [
    {
     "data": {
      "text/plain": [
       "array([ 0.00000000e+00,  1.00000000e+00,  1.00000000e+00,  1.00000000e+00,\n",
       "        1.00000000e+00,  1.00000000e+00,  1.00000000e+00,  1.00000000e+00,\n",
       "        1.00000000e+00,  1.00000000e+00,  1.00000000e+00,  1.00000000e+00,\n",
       "        1.00000000e+00,  1.00000000e+00,  1.00000000e+00,  1.00000000e+00,\n",
       "        1.00000000e+00,  1.00000000e+00,  1.00000000e+00,  1.00000000e+00,\n",
       "        1.00000000e+00,  1.00000000e+00,  1.00000000e+00,  1.00000000e+00,\n",
       "        1.00000000e+00,  1.00000000e+00,  1.00000000e+00,  1.00000000e+00,\n",
       "        1.00000000e+00,  9.99999999e-01,  9.99999988e-01,  9.99999898e-01,\n",
       "        9.99999251e-01,  9.99995019e-01,  9.99970186e-01,  9.99839693e-01,\n",
       "        9.99228188e-01,  9.96686919e-01,  9.87391018e-01,  9.57764405e-01,\n",
       "        8.76679157e-01,  6.90181896e-01,  3.42296950e-01, -1.49042206e-01,\n",
       "       -5.85385954e-01, -6.10414494e-01, -5.87920309e-02,  5.86102730e-01,\n",
       "        4.72957365e-01, -3.45223115e-01, -5.56136884e-01,  2.60769866e-01,\n",
       "        4.71683635e-01, -3.46496845e-01, -2.33351480e-01,  4.11543281e-01,\n",
       "       -1.40079183e-01, -1.65107723e-01,  2.71236025e-01, -2.20103131e-01,\n",
       "        1.27781814e-01, -5.87154473e-02,  2.23698000e-02, -7.25681376e-03,\n",
       "        2.03908716e-03, -5.02181551e-04,  1.09323381e-04, -2.11695693e-05,\n",
       "        3.66331376e-06, -5.68432709e-07,  7.92822121e-08, -9.95521664e-09,\n",
       "        1.12634494e-09, -1.14844902e-10,  1.05478322e-11, -8.71634281e-13,\n",
       "        6.46900748e-14, -4.30095550e-15,  2.55297645e-16, -1.34708095e-17,\n",
       "        6.28363604e-19, -2.57322244e-20,  9.16995063e-22, -2.81180723e-23,\n",
       "        7.31071068e-25, -1.58040877e-26,  2.76431690e-28, -3.75896311e-30,\n",
       "        3.72855523e-32, -2.39988927e-34,  7.52316385e-37,  0.00000000e+00,\n",
       "        0.00000000e+00,  0.00000000e+00,  0.00000000e+00,  0.00000000e+00,\n",
       "        0.00000000e+00,  0.00000000e+00,  0.00000000e+00,  0.00000000e+00,\n",
       "        0.00000000e+00,  0.00000000e+00])"
      ]
     },
     "execution_count": 6,
     "metadata": {},
     "output_type": "execute_result"
    }
   ],
   "source": [
    "u"
   ]
  },
  {
   "cell_type": "code",
   "execution_count": null,
   "id": "2c3aaad2-5bb6-47a8-bb40-373ba35adcfd",
   "metadata": {},
   "outputs": [],
   "source": []
  }
 ],
 "metadata": {
  "kernelspec": {
   "display_name": "Python 3",
   "language": "python",
   "name": "python3"
  },
  "language_info": {
   "codemirror_mode": {
    "name": "ipython",
    "version": 3
   },
   "file_extension": ".py",
   "mimetype": "text/x-python",
   "name": "python",
   "nbconvert_exporter": "python",
   "pygments_lexer": "ipython3",
   "version": "3.8.8"
  }
 },
 "nbformat": 4,
 "nbformat_minor": 5
}
