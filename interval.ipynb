{
 "cells": [
  {
   "cell_type": "code",
   "execution_count": 1,
   "id": "f91697f0-6ce4-4e9c-bfc7-1e2b631ed68c",
   "metadata": {},
   "outputs": [],
   "source": [
    "import numpy as np\n",
    "import matplotlib.pyplot as plt"
   ]
  },
  {
   "cell_type": "code",
   "execution_count": 2,
   "id": "a7fbdaa9-36c0-4ab7-995b-1b2c275582d3",
   "metadata": {},
   "outputs": [
    {
     "data": {
      "text/plain": [
       "\u001b[1;31mSignature:\u001b[0m\n",
       "\u001b[0mnp\u001b[0m\u001b[1;33m.\u001b[0m\u001b[0mlinspace\u001b[0m\u001b[1;33m(\u001b[0m\u001b[1;33m\n",
       "\u001b[0m    \u001b[0mstart\u001b[0m\u001b[1;33m,\u001b[0m\u001b[1;33m\n",
       "\u001b[0m    \u001b[0mstop\u001b[0m\u001b[1;33m,\u001b[0m\u001b[1;33m\n",
       "\u001b[0m    \u001b[0mnum\u001b[0m\u001b[1;33m=\u001b[0m\u001b[1;36m50\u001b[0m\u001b[1;33m,\u001b[0m\u001b[1;33m\n",
       "\u001b[0m    \u001b[0mendpoint\u001b[0m\u001b[1;33m=\u001b[0m\u001b[1;32mTrue\u001b[0m\u001b[1;33m,\u001b[0m\u001b[1;33m\n",
       "\u001b[0m    \u001b[0mretstep\u001b[0m\u001b[1;33m=\u001b[0m\u001b[1;32mFalse\u001b[0m\u001b[1;33m,\u001b[0m\u001b[1;33m\n",
       "\u001b[0m    \u001b[0mdtype\u001b[0m\u001b[1;33m=\u001b[0m\u001b[1;32mNone\u001b[0m\u001b[1;33m,\u001b[0m\u001b[1;33m\n",
       "\u001b[0m    \u001b[0maxis\u001b[0m\u001b[1;33m=\u001b[0m\u001b[1;36m0\u001b[0m\u001b[1;33m,\u001b[0m\u001b[1;33m\n",
       "\u001b[0m\u001b[1;33m)\u001b[0m\u001b[1;33m\u001b[0m\u001b[1;33m\u001b[0m\u001b[0m\n",
       "\u001b[1;31mDocstring:\u001b[0m\n",
       "Return evenly spaced numbers over a specified interval.\n",
       "\n",
       "Returns `num` evenly spaced samples, calculated over the\n",
       "interval [`start`, `stop`].\n",
       "\n",
       "The endpoint of the interval can optionally be excluded.\n",
       "\n",
       ".. versionchanged:: 1.16.0\n",
       "    Non-scalar `start` and `stop` are now supported.\n",
       "\n",
       ".. versionchanged:: 1.20.0\n",
       "    Values are rounded towards ``-inf`` instead of ``0`` when an\n",
       "    integer ``dtype`` is specified. The old behavior can\n",
       "    still be obtained with ``np.linspace(start, stop, num).astype(int)``\n",
       "\n",
       "Parameters\n",
       "----------\n",
       "start : array_like\n",
       "    The starting value of the sequence.\n",
       "stop : array_like\n",
       "    The end value of the sequence, unless `endpoint` is set to False.\n",
       "    In that case, the sequence consists of all but the last of ``num + 1``\n",
       "    evenly spaced samples, so that `stop` is excluded.  Note that the step\n",
       "    size changes when `endpoint` is False.\n",
       "num : int, optional\n",
       "    Number of samples to generate. Default is 50. Must be non-negative.\n",
       "endpoint : bool, optional\n",
       "    If True, `stop` is the last sample. Otherwise, it is not included.\n",
       "    Default is True.\n",
       "retstep : bool, optional\n",
       "    If True, return (`samples`, `step`), where `step` is the spacing\n",
       "    between samples.\n",
       "dtype : dtype, optional\n",
       "    The type of the output array.  If `dtype` is not given, the data type\n",
       "    is inferred from `start` and `stop`. The inferred dtype will never be\n",
       "    an integer; `float` is chosen even if the arguments would produce an\n",
       "    array of integers.\n",
       "\n",
       "    .. versionadded:: 1.9.0\n",
       "\n",
       "axis : int, optional\n",
       "    The axis in the result to store the samples.  Relevant only if start\n",
       "    or stop are array-like.  By default (0), the samples will be along a\n",
       "    new axis inserted at the beginning. Use -1 to get an axis at the end.\n",
       "\n",
       "    .. versionadded:: 1.16.0\n",
       "\n",
       "Returns\n",
       "-------\n",
       "samples : ndarray\n",
       "    There are `num` equally spaced samples in the closed interval\n",
       "    ``[start, stop]`` or the half-open interval ``[start, stop)``\n",
       "    (depending on whether `endpoint` is True or False).\n",
       "step : float, optional\n",
       "    Only returned if `retstep` is True\n",
       "\n",
       "    Size of spacing between samples.\n",
       "\n",
       "\n",
       "See Also\n",
       "--------\n",
       "arange : Similar to `linspace`, but uses a step size (instead of the\n",
       "         number of samples).\n",
       "geomspace : Similar to `linspace`, but with numbers spaced evenly on a log\n",
       "            scale (a geometric progression).\n",
       "logspace : Similar to `geomspace`, but with the end points specified as\n",
       "           logarithms.\n",
       "\n",
       "Examples\n",
       "--------\n",
       ">>> np.linspace(2.0, 3.0, num=5)\n",
       "array([2.  , 2.25, 2.5 , 2.75, 3.  ])\n",
       ">>> np.linspace(2.0, 3.0, num=5, endpoint=False)\n",
       "array([2. ,  2.2,  2.4,  2.6,  2.8])\n",
       ">>> np.linspace(2.0, 3.0, num=5, retstep=True)\n",
       "(array([2.  ,  2.25,  2.5 ,  2.75,  3.  ]), 0.25)\n",
       "\n",
       "Graphical illustration:\n",
       "\n",
       ">>> import matplotlib.pyplot as plt\n",
       ">>> N = 8\n",
       ">>> y = np.zeros(N)\n",
       ">>> x1 = np.linspace(0, 10, N, endpoint=True)\n",
       ">>> x2 = np.linspace(0, 10, N, endpoint=False)\n",
       ">>> plt.plot(x1, y, 'o')\n",
       "[<matplotlib.lines.Line2D object at 0x...>]\n",
       ">>> plt.plot(x2, y + 0.5, 'o')\n",
       "[<matplotlib.lines.Line2D object at 0x...>]\n",
       ">>> plt.ylim([-0.5, 1])\n",
       "(-0.5, 1)\n",
       ">>> plt.show()\n",
       "\u001b[1;31mFile:\u001b[0m      c:\\users\\chaco\\anaconda3\\lib\\site-packages\\numpy\\core\\function_base.py\n",
       "\u001b[1;31mType:\u001b[0m      function\n"
      ]
     },
     "metadata": {},
     "output_type": "display_data"
    }
   ],
   "source": [
    "np.linspace?"
   ]
  },
  {
   "cell_type": "code",
   "execution_count": 3,
   "id": "bb23f1c8-630f-4c07-bf1c-797da5510041",
   "metadata": {},
   "outputs": [
    {
     "data": {
      "text/plain": [
       "array([ 5.        ,  5.30612245,  5.6122449 ,  5.91836735,  6.2244898 ,\n",
       "        6.53061224,  6.83673469,  7.14285714,  7.44897959,  7.75510204,\n",
       "        8.06122449,  8.36734694,  8.67346939,  8.97959184,  9.28571429,\n",
       "        9.59183673,  9.89795918, 10.20408163, 10.51020408, 10.81632653,\n",
       "       11.12244898, 11.42857143, 11.73469388, 12.04081633, 12.34693878,\n",
       "       12.65306122, 12.95918367, 13.26530612, 13.57142857, 13.87755102,\n",
       "       14.18367347, 14.48979592, 14.79591837, 15.10204082, 15.40816327,\n",
       "       15.71428571, 16.02040816, 16.32653061, 16.63265306, 16.93877551,\n",
       "       17.24489796, 17.55102041, 17.85714286, 18.16326531, 18.46938776,\n",
       "       18.7755102 , 19.08163265, 19.3877551 , 19.69387755, 20.        ])"
      ]
     },
     "execution_count": 3,
     "metadata": {},
     "output_type": "execute_result"
    }
   ],
   "source": [
    "np.linspace(5,20,50)"
   ]
  },
  {
   "cell_type": "code",
   "execution_count": 4,
   "id": "e3e6ad9e-3082-455b-a0c3-12b1815977d2",
   "metadata": {},
   "outputs": [
    {
     "data": {
      "text/plain": [
       "array([1.00000000e+05, 2.02358965e+05, 4.09491506e+05, 8.28642773e+05,\n",
       "       1.67683294e+06, 3.39322177e+06, 6.86648845e+06, 1.38949549e+07,\n",
       "       2.81176870e+07, 5.68986603e+07, 1.15139540e+08, 2.32995181e+08,\n",
       "       4.71486636e+08, 9.54095476e+08, 1.93069773e+09, 3.90693994e+09,\n",
       "       7.90604321e+09, 1.59985872e+10, 3.23745754e+10, 6.55128557e+10,\n",
       "       1.32571137e+11, 2.68269580e+11, 5.42867544e+11, 1.09854114e+12,\n",
       "       2.22299648e+12, 4.49843267e+12, 9.10298178e+12, 1.84206997e+13,\n",
       "       3.72759372e+13, 7.54312006e+13, 1.52641797e+14, 3.08884360e+14,\n",
       "       6.25055193e+14, 1.26485522e+15, 2.55954792e+15, 5.17947468e+15,\n",
       "       1.04811313e+16, 2.12095089e+16, 4.29193426e+16, 8.68511374e+16,\n",
       "       1.75751062e+17, 3.55648031e+17, 7.19685673e+17, 1.45634848e+18,\n",
       "       2.94705170e+18, 5.96362332e+18, 1.20679264e+19, 2.44205309e+19,\n",
       "       4.94171336e+19, 1.00000000e+20])"
      ]
     },
     "execution_count": 4,
     "metadata": {},
     "output_type": "execute_result"
    }
   ],
   "source": [
    "np.logspace(5,20,50)"
   ]
  },
  {
   "cell_type": "code",
   "execution_count": 5,
   "id": "2eaa8424-2454-44bc-8aa8-418b5e1bca24",
   "metadata": {},
   "outputs": [],
   "source": [
    "x=np.linspace(0,10,30)"
   ]
  },
  {
   "cell_type": "code",
   "execution_count": 13,
   "id": "6e7e2f46-e0d8-4e49-8fa4-f2c99aef5a71",
   "metadata": {},
   "outputs": [],
   "source": [
    "y=np.sqrt(x)"
   ]
  },
  {
   "cell_type": "code",
   "execution_count": 14,
   "id": "79cff122-4588-4c7a-98ae-063be96d75af",
   "metadata": {},
   "outputs": [
    {
     "data": {
      "text/plain": [
       "[<matplotlib.lines.Line2D at 0x23414ec4850>]"
      ]
     },
     "execution_count": 14,
     "metadata": {},
     "output_type": "execute_result"
    },
    {
     "data": {
      "image/png": "[encoded data removed]",
      "text/plain": [
       "<Figure size 432x288 with 1 Axes>"
      ]
     },
     "metadata": {
      "needs_background": "light"
     },
     "output_type": "display_data"
    }
   ],
   "source": [
    "plt.plot(x,y)"
   ]
  },
  {
   "cell_type": "code",
   "execution_count": 20,
   "id": "9c670c50-c440-4b26-9602-90fd22f74178",
   "metadata": {},
   "outputs": [],
   "source": [
    "e=np.random.normal(0,2.0,30)"
   ]
  },
  {
   "cell_type": "code",
   "execution_count": 21,
   "id": "d1c36249-f2fe-4d6b-ac56-ee35f19c08e1",
   "metadata": {},
   "outputs": [
    {
     "data": {
      "text/plain": [
       "<matplotlib.collections.PathCollection at 0x23414edb100>"
      ]
     },
     "execution_count": 21,
     "metadata": {},
     "output_type": "execute_result"
    },
    {
     "data": {
      "image/png": "[encoded data removed]",
      "text/plain": [
       "<Figure size 432x288 with 1 Axes>"
      ]
     },
     "metadata": {
      "needs_background": "light"
     },
     "output_type": "display_data"
    }
   ],
   "source": [
    "plt.scatter(x,np.sqrt(x)+e)"
   ]
  },
  {
   "cell_type": "code",
   "execution_count": 22,
   "id": "f54609b8-d8fa-41c6-a637-71916612b4e4",
   "metadata": {},
   "outputs": [],
   "source": [
    "p=np.polyfit(x,y+e,1)"
   ]
  },
  {
   "cell_type": "code",
   "execution_count": 23,
   "id": "7b2ba695-5f65-492b-8a5d-d6c3842274aa",
   "metadata": {},
   "outputs": [
    {
     "data": {
      "text/plain": [
       "[<matplotlib.lines.Line2D at 0x23414f1d5b0>]"
      ]
     },
     "execution_count": 23,
     "metadata": {},
     "output_type": "execute_result"
    },
    {
     "data": {
      "image/png": "[encoded data removed]",
      "text/plain": [
       "<Figure size 432x288 with 1 Axes>"
      ]
     },
     "metadata": {
      "needs_background": "light"
     },
     "output_type": "display_data"
    }
   ],
   "source": [
    "plt.scatter(x,y+e)\n",
    "plt.plot(x,x+p[0]+p[1])"
   ]
  },
  {
   "cell_type": "code",
   "execution_count": 26,
   "id": "94d8a91e-6356-47fe-9140-27f8354d1473",
   "metadata": {},
   "outputs": [
    {
     "data": {
      "text/plain": [
       "array([ 1.00000000e+00,  8.15568793e-01,  3.82019307e-01, -3.32681740e-02,\n",
       "       -2.14384294e-01, -1.40710156e-01,  3.30731546e-02,  1.27064531e-01,\n",
       "        7.93518070e-02, -3.27496464e-02, -9.10938250e-02, -5.07850466e-02,\n",
       "        3.22999226e-02,  7.09034512e-02,  3.39933628e-02, -3.17271387e-02,\n",
       "       -5.76090541e-02, -2.27999454e-02,  3.10353063e-02,  4.79441184e-02,\n",
       "        1.47373409e-02, -3.02292598e-02, -4.04296235e-02, -8.62777945e-03,\n",
       "        2.93146158e-02,  3.43014870e-02,  3.83863547e-03, -2.82977264e-02,\n",
       "       -2.91274569e-02, -3.89817183e-17])"
      ]
     },
     "execution_count": 26,
     "metadata": {},
     "output_type": "execute_result"
    }
   ],
   "source": [
    "np.sinc(x)"
   ]
  },
  {
   "cell_type": "code",
   "execution_count": 29,
   "id": "201f7eef-8524-4dc7-bb30-8595565a814c",
   "metadata": {},
   "outputs": [
    {
     "data": {
      "text/plain": [
       "[<matplotlib.lines.Line2D at 0x2341540a250>]"
      ]
     },
     "execution_count": 29,
     "metadata": {},
     "output_type": "execute_result"
    },
    {
     "data": {
      "image/png": "[encoded data removed]",
      "text/plain": [
       "<Figure size 432x288 with 1 Axes>"
      ]
     },
     "metadata": {
      "needs_background": "light"
     },
     "output_type": "display_data"
    }
   ],
   "source": [
    "plt.plot(x,np.sinc(x))"
   ]
  },
  {
   "cell_type": "code",
   "execution_count": 48,
   "id": "46d47154-66c2-4e10-a251-9530112be482",
   "metadata": {},
   "outputs": [
    {
     "data": {
      "text/plain": [
       "Text(0, 0.5, 'y')"
      ]
     },
     "execution_count": 48,
     "metadata": {},
     "output_type": "execute_result"
    },
    {
     "data": {
      "image/png": "[encoded data removed]",
      "text/plain": [
       "<Figure size 432x288 with 2 Axes>"
      ]
     },
     "metadata": {
      "needs_background": "light"
     },
     "output_type": "display_data"
    }
   ],
   "source": [
    "x=np.linspace(-10,10,50)\n",
    "y=x.copy()\n",
    "xx,yy=np.meshgrid(x,y)\n",
    "plt.pcolormesh(x,y,3*np.sinc(xx)+np.sinc(2*yy),shading='auto')\n",
    "plt.colorbar()\n",
    "plt.xlabel('x')\n",
    "plt.ylabel('y')"
   ]
  },
  {
   "cell_type": "code",
   "execution_count": 49,
   "id": "522e3b82-6a90-4874-85c2-0c05d6f68a47",
   "metadata": {},
   "outputs": [
    {
     "data": {
      "text/plain": [
       "<matplotlib.image.AxesImage at 0x2341646b790>"
      ]
     },
     "execution_count": 49,
     "metadata": {},
     "output_type": "execute_result"
    },
    {
     "data": {
      "image/png": "[encoded data removed]",
      "text/plain": [
       "<Figure size 432x288 with 1 Axes>"
      ]
     },
     "metadata": {
      "needs_background": "light"
     },
     "output_type": "display_data"
    }
   ],
   "source": [
    "plt.imshow(3*np.sinc(xx)+np.sinc(2*yy),origin='lower',extent=(-10,10,-10,10))"
   ]
  },
  {
   "cell_type": "code",
   "execution_count": 50,
   "id": "34eb4df7-b9f2-43a7-a96e-70481d3cc242",
   "metadata": {},
   "outputs": [
    {
     "data": {
      "text/plain": [
       "<matplotlib.image.AxesImage at 0x23415e59880>"
      ]
     },
     "execution_count": 50,
     "metadata": {},
     "output_type": "execute_result"
    },
    {
     "data": {
      "image/png": "[encoded data removed]",
      "text/plain": [
       "<Figure size 432x288 with 1 Axes>"
      ]
     },
     "metadata": {
      "needs_background": "light"
     },
     "output_type": "display_data"
    }
   ],
   "source": [
    "plt.imshow(np.sinc(xx)+np.sinc(yy),origin='lower',extent=(-10,10,-10,10))"
   ]
  },
  {
   "cell_type": "code",
   "execution_count": null,
   "id": "6062ae04-6aef-4f2e-949b-79e799c0800b",
   "metadata": {},
   "outputs": [],
   "source": []
  }
 ],
 "metadata": {
  "kernelspec": {
   "display_name": "Python 3",
   "language": "python",
   "name": "python3"
  },
  "language_info": {
   "codemirror_mode": {
    "name": "ipython",
    "version": 3
   },
   "file_extension": ".py",
   "mimetype": "text/x-python",
   "name": "python",
   "nbconvert_exporter": "python",
   "pygments_lexer": "ipython3",
   "version": "3.8.8"
  }
 },
 "nbformat": 4,
 "nbformat_minor": 5
}
