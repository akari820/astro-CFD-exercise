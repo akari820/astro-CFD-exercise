{
 "cells": [
  {
   "cell_type": "code",
   "execution_count": 1,
   "id": "30077ee2-a912-45ae-a180-33bd28b760f6",
   "metadata": {
    "tags": []
   },
   "outputs": [],
   "source": [
    "import numpy as np\n",
    "import matplotlib.pyplot as plt"
   ]
  },
  {
   "cell_type": "code",
   "execution_count": 2,
   "id": "563b9ea3-8eda-4456-b127-5345c1388c3e",
   "metadata": {},
   "outputs": [],
   "source": [
    "# Grid\n",
    "nx = 101\n",
    "xl, xr = 0., 101.\n",
    "nghost = 1\n",
    "\n",
    "dx = (xr - xl) / nx\n",
    "nxt = nx + 2 * nghost\n",
    "\n",
    "# Courant number\n",
    "nu = 0.25\n",
    "\n",
    "# Advection speed (constant)\n",
    "c = 1.\n",
    "\n",
    "# Scheme\n",
    "# 'ftcs', 'lf','lw','upwind'\n",
    "scheme = 'upwind'\n",
    "\n",
    "# Output dir\n",
    "out_dir = 'upwind'\n",
    "\n",
    "# Constant timestep\n",
    "dt = nu * dx / c\n",
    "\n",
    "# End time\n",
    "t_end = 10.\n",
    "\n",
    "# I/O\n",
    "n_output = 2\n",
    "\n",
    "# Initialize\n",
    "t = 0.\n",
    "nstep = 0"
   ]
  },
  {
   "cell_type": "code",
   "execution_count": 3,
   "id": "ca6ce80a-9171-43d8-9c82-67f0268ad51e",
   "metadata": {},
   "outputs": [],
   "source": [
    "# Initialize grid\n",
    "x = np.linspace(xl-nghost*dx, xr+nghost*dx, nxt)"
   ]
  },
  {
   "cell_type": "code",
   "execution_count": 4,
   "id": "36101f20-e834-46af-a66b-0eeeede7b14b",
   "metadata": {},
   "outputs": [],
   "source": [
    "# Initial conditions(step function)\n",
    "u = np.where(x<50., 1., 0.)"
   ]
  },
  {
   "cell_type": "code",
   "execution_count": 5,
   "id": "e204325a-eda8-4307-a3ab-d52f4bf91f07",
   "metadata": {},
   "outputs": [],
   "source": [
    "# TIme integration loop\n",
    "while t < t_end:\n",
    "    \n",
    "    # Set Boundary conditions\n",
    "    u[0] = u[1]\n",
    "    u[nxt - 1] = u[nxt - 2]\n",
    "    \n",
    "    # Create left, right, and inner arrays to construct central differences\n",
    "    u_right = u[nghost+1:]\n",
    "    u_left = u[:-nghost-1]\n",
    "    u_inner = u[nghost:-nghost]\n",
    "\n",
    "    # Calculate new solution. One timestep in the FTCS scheme.\n",
    "    if scheme == 'ftcs':\n",
    "        u_new_inner = u_inner - 0.5 * nu * (u_right - u_left)\n",
    "    \n",
    "    elif scheme == 'upwind':\n",
    "        u_new_inner = u_inner - nu * (u_inner - u_left)\n",
    "        \n",
    "    elif scheme == 'lf':\n",
    "        u_new_inner = 0.5 * (u_right + u_left) - 0.5 * nu * (u_right - u_left)\n",
    "        \n",
    "    elif scheme == 'lw':\n",
    "        u_new_inner = u_inner - 0.5 * nu * (u_right - u_left) + 0.5 * nu * nu * (u_right - 2 * u_inner + u_left)\n",
    "        \n",
    "    else:\n",
    "        print('Error: Unknown scheme. Exiting.')\n",
    "        exit()\n",
    "\n",
    "    # Create a copy so that we can still use u_new_inner.\n",
    "    u_inner = u_new_inner.copy()\n",
    "    \n",
    "    # Extend u to \n",
    "    u = np.concatenate(([0], u_inner, [0]))\n",
    "    \n",
    "    # Update time\n",
    "    t = t + dt\n",
    "    nstep += 1\n",
    "    \n",
    "    # I/O\n",
    "    if nstep % n_output == 0:\n",
    "        u_inner.tofile(f'{out_dir}/{scheme}-{int(nstep/n_output):0>4d}.dat')"
   ]
  },
  {
   "cell_type": "code",
   "execution_count": 6,
   "id": "eb103b88-0641-4f67-82ee-3f2f9679e453",
   "metadata": {},
   "outputs": [
    {
     "data": {
      "text/plain": [
       "array([0.00000000e+00, 1.00000000e+00, 1.00000000e+00, 1.00000000e+00,\n",
       "       1.00000000e+00, 1.00000000e+00, 1.00000000e+00, 1.00000000e+00,\n",
       "       1.00000000e+00, 1.00000000e+00, 1.00000000e+00, 1.00000000e+00,\n",
       "       1.00000000e+00, 1.00000000e+00, 1.00000000e+00, 1.00000000e+00,\n",
       "       1.00000000e+00, 1.00000000e+00, 1.00000000e+00, 1.00000000e+00,\n",
       "       1.00000000e+00, 1.00000000e+00, 1.00000000e+00, 1.00000000e+00,\n",
       "       1.00000000e+00, 1.00000000e+00, 1.00000000e+00, 1.00000000e+00,\n",
       "       1.00000000e+00, 1.00000000e+00, 1.00000000e+00, 1.00000000e+00,\n",
       "       1.00000000e+00, 1.00000000e+00, 1.00000000e+00, 1.00000000e+00,\n",
       "       1.00000000e+00, 1.00000000e+00, 1.00000000e+00, 1.00000000e+00,\n",
       "       1.00000000e+00, 1.00000000e+00, 1.00000000e+00, 1.00000000e+00,\n",
       "       1.00000000e+00, 1.00000000e+00, 1.00000000e+00, 1.00000000e+00,\n",
       "       1.00000000e+00, 1.00000000e+00, 1.00000000e+00, 9.99989943e-01,\n",
       "       9.99855856e-01, 9.98984285e-01, 9.95304320e-01, 9.83957760e-01,\n",
       "       9.56726017e-01, 9.03775407e-01, 8.18045846e-01, 7.00167700e-01,\n",
       "       5.60460268e-01, 4.16095922e-01, 2.84855607e-01, 1.79134242e-01,\n",
       "       1.03231724e-01, 5.44372480e-02, 2.62448841e-02, 1.15613612e-02,\n",
       "       4.65146808e-03, 1.70836545e-03, 5.72431107e-04, 1.74854086e-04,\n",
       "       4.86391584e-05, 1.23045581e-05, 2.82596668e-06, 5.87965936e-07,\n",
       "       1.10525777e-07, 1.87103619e-08, 2.84103090e-09, 3.85063001e-10,\n",
       "       4.63088090e-11, 4.90551880e-12, 4.53552109e-13, 3.61802325e-14,\n",
       "       2.45321211e-15, 1.38612669e-16, 6.34984453e-18, 2.26565597e-19,\n",
       "       5.90689675e-21, 1.00088854e-22, 8.27180613e-25, 0.00000000e+00,\n",
       "       0.00000000e+00, 0.00000000e+00, 0.00000000e+00, 0.00000000e+00,\n",
       "       0.00000000e+00, 0.00000000e+00, 0.00000000e+00, 0.00000000e+00,\n",
       "       0.00000000e+00, 0.00000000e+00, 0.00000000e+00])"
      ]
     },
     "execution_count": 6,
     "metadata": {},
     "output_type": "execute_result"
    }
   ],
   "source": [
    "u"
   ]
  },
  {
   "cell_type": "code",
   "execution_count": null,
   "id": "2c3aaad2-5bb6-47a8-bb40-373ba35adcfd",
   "metadata": {},
   "outputs": [],
   "source": []
  }
 ],
 "metadata": {
  "kernelspec": {
   "display_name": "Python 3",
   "language": "python",
   "name": "python3"
  },
  "language_info": {
   "codemirror_mode": {
    "name": "ipython",
    "version": 3
   },
   "file_extension": ".py",
   "mimetype": "text/x-python",
   "name": "python",
   "nbconvert_exporter": "python",
   "pygments_lexer": "ipython3",
   "version": "3.8.8"
  }
 },
 "nbformat": 4,
 "nbformat_minor": 5
}
